{
 "cells": [
  {
   "cell_type": "markdown",
   "id": "2ac2b252-77b2-413a-bad7-1181a3ee2daa",
   "metadata": {},
   "source": [
    "## **Check** the remarks on `eda_model_cart.ipynb` notebook. They apply here!"
   ]
  },
  {
   "cell_type": "code",
   "execution_count": null,
   "id": "99ee9cbb-5dcb-45cd-8eaf-45b5965b3c42",
   "metadata": {},
   "outputs": [],
   "source": [
    "import pandas as pd"
   ]
  },
  {
   "cell_type": "markdown",
   "id": "27c46714-a5fd-4d64-9d79-4bca12fef0c3",
   "metadata": {},
   "source": [
    "# SECTION 3: Statistic Summary"
   ]
  },
  {
   "cell_type": "markdown",
   "id": "9388f509-010e-4466-8887-4fd45daa75a9",
   "metadata": {},
   "source": [
    "## Load the dataset using pandas and get a summary of the number of machines for each of the four types."
   ]
  },
  {
   "cell_type": "code",
   "execution_count": null,
   "id": "e217583e-0497-44eb-8b7a-b6f438ca702e",
   "metadata": {},
   "outputs": [],
   "source": [
    "f_type = 'speedo'  # Type of file (lidar, m, cart, speedo)\n",
    "ID = ['A', 'B', 'C']  # ID for each file"
   ]
  },
  {
   "cell_type": "code",
   "execution_count": null,
   "id": "02b5a1b6-e04a-4efb-a3c9-b55ca82b63a7",
   "metadata": {},
   "outputs": [],
   "source": [
    "A, B, C = [pd.read_parquet('../data/raw/202201W1-' + f_type + ID[i] + '.parquet', engine='pyarrow') for i in range(len(ID))]\n",
    "f = [A, B, C]  # Create list with all loaded files"
   ]
  },
  {
   "cell_type": "markdown",
   "id": "9d683cb7-a180-44a2-83cf-e4cbf9871aca",
   "metadata": {},
   "source": [
    "# SECTION 4: Defining the Schemas"
   ]
  },
  {
   "cell_type": "markdown",
   "id": "13c57321-faef-4f10-a838-074163a44735",
   "metadata": {},
   "source": [
    "## Get the schemas for each of the four types of machines. Note: Schema refers to the definition of the schema on a database. Observe the datatypes of each field."
   ]
  },
  {
   "cell_type": "code",
   "execution_count": null,
   "id": "27a9aa03-b415-431d-84c8-cfac3b350ad8",
   "metadata": {},
   "outputs": [],
   "source": [
    "for i, file in enumerate(f):\n",
    "    if list(f[0].dtypes) == list(file.dtypes):\n",
    "        if i == len(f) - 1:\n",
    "            print(file.dtypes)\n",
    "    else:\n",
    "        print('Files do not have a common schema')\n",
    "        break    "
   ]
  },
  {
   "cell_type": "markdown",
   "id": "6d2b60a1-526e-4c51-a33f-8fc3b6bdf377",
   "metadata": {},
   "source": [
    "# SECTION 5: Exploring the dataset. "
   ]
  },
  {
   "cell_type": "markdown",
   "id": "cdaf0eef-7e30-45a5-8477-6672592951f9",
   "metadata": {},
   "source": [
    "## 5a: Get a statistical summary of the dataset."
   ]
  },
  {
   "cell_type": "code",
   "execution_count": null,
   "id": "7ec8e89a-eb21-459c-9ed3-fc81e5a44dab",
   "metadata": {},
   "outputs": [],
   "source": [
    "for i, file in enumerate(f):\n",
    "    print(str(i+1) +': File ../data/raw/202201W1-' + f_type + ID[i] + '.parquet ' + '-'*50)\n",
    "    print(file.describe(), '\\n')"
   ]
  },
  {
   "cell_type": "markdown",
   "id": "6dd98c95-e1bc-46c5-b0b6-d20802386771",
   "metadata": {},
   "source": [
    "## 5b: Get the number of missing values, null values, or NaN values."
   ]
  },
  {
   "cell_type": "code",
   "execution_count": null,
   "id": "36471895-066a-44c0-8131-0cc4370a883f",
   "metadata": {},
   "outputs": [],
   "source": [
    "print('The number of NaN values in each dataframe is:')\n",
    "for i, file in enumerate(f):\n",
    "    print(\"File ../data/raw/202201W1-\" + f_type + ID[i] + \".parquet : {}\".format(file.isna().sum().sum()))"
   ]
  },
  {
   "cell_type": "code",
   "execution_count": null,
   "id": "af1dea6e-fc2a-4b80-9cb9-6a4bf0c5a6a7",
   "metadata": {},
   "outputs": [],
   "source": [
    "print('The number of null values in each dataframe is:')\n",
    "for i, file in enumerate(f):\n",
    "    print(\"File ../data/raw/202201W1-\" + f_type + ID[i] + \".parquet : {}\".format(file.isnull().sum().sum()))"
   ]
  },
  {
   "cell_type": "markdown",
   "id": "a02e8671-0707-4635-bb34-2c2a9292fa2a",
   "metadata": {},
   "source": [
    "## 5c: Establish the ranges of each variable, i.e., get the min and max for each field."
   ]
  },
  {
   "cell_type": "code",
   "execution_count": null,
   "id": "318bdc85-c68d-4793-9235-7a39bd6bdfa7",
   "metadata": {},
   "outputs": [],
   "source": [
    "for i, file in enumerate(f):\n",
    "    print(str(i+1) +': File ../data/raw/202201W1-' + f_type + ID[i] + '.parquet ' + '-'*50)\n",
    "    print(file.select_dtypes(include=['float64']).agg(['min','max']), '\\n')"
   ]
  },
  {
   "cell_type": "markdown",
   "id": "6aa26e0d-ee43-4d02-a903-2996a97accb5",
   "metadata": {},
   "source": [
    "## 5d: Get the rate at which data arrives. Use the timestamp field in the dataset."
   ]
  },
  {
   "cell_type": "code",
   "execution_count": null,
   "id": "d95bfc16-e813-497d-80cc-4e9a23885f2d",
   "metadata": {},
   "outputs": [],
   "source": [
    "for i, file in enumerate(f):\n",
    "    print(str(i+1) +': File ../data/raw/202201W1-' + f_type + ID[i] + '.parquet ' + '-'*50)\n",
    "    print('Average rate of incoming data = ' + \n",
    "          str(1/file['timestamp'].diff().mean().total_seconds()) + ' entries per second', '\\n')"
   ]
  }
 ],
 "metadata": {
  "kernelspec": {
   "display_name": "Python 3 (ipykernel)",
   "language": "python",
   "name": "python3"
  },
  "language_info": {
   "codemirror_mode": {
    "name": "ipython",
    "version": 3
   },
   "file_extension": ".py",
   "mimetype": "text/x-python",
   "name": "python",
   "nbconvert_exporter": "python",
   "pygments_lexer": "ipython3",
   "version": "3.7.15"
  }
 },
 "nbformat": 4,
 "nbformat_minor": 5
}
