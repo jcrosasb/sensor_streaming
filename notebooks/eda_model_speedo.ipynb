{
 "cells": [
  {
   "cell_type": "code",
   "execution_count": 1,
   "id": "99ee9cbb-5dcb-45cd-8eaf-45b5965b3c42",
   "metadata": {},
   "outputs": [],
   "source": [
    "import pandas as pd"
   ]
  },
  {
   "cell_type": "markdown",
   "id": "27c46714-a5fd-4d64-9d79-4bca12fef0c3",
   "metadata": {},
   "source": [
    "# SECTION 3: Statistic Summary"
   ]
  },
  {
   "cell_type": "markdown",
   "id": "9388f509-010e-4466-8887-4fd45daa75a9",
   "metadata": {},
   "source": [
    "## Load the dataset using pandas and get a summary of the number of machines for each of the four types."
   ]
  },
  {
   "cell_type": "code",
   "execution_count": 2,
   "id": "e217583e-0497-44eb-8b7a-b6f438ca702e",
   "metadata": {},
   "outputs": [],
   "source": [
    "f_type = 'speedo'  # Type of file (lidar, m, cart, speedo)\n",
    "ID = ['A', 'B', 'C']  # ID for each file"
   ]
  },
  {
   "cell_type": "code",
   "execution_count": 3,
   "id": "02b5a1b6-e04a-4efb-a3c9-b55ca82b63a7",
   "metadata": {},
   "outputs": [],
   "source": [
    "A, B, C = [pd.read_parquet('../data/raw/202201W1-' + f_type + ID[i] + '.parquet', engine='pyarrow') for i in range(len(ID))]\n",
    "f = [A, B, C]  # Create list with all loaded files"
   ]
  },
  {
   "cell_type": "markdown",
   "id": "9d683cb7-a180-44a2-83cf-e4cbf9871aca",
   "metadata": {},
   "source": [
    "# SECTION 4: Defining the Schemas"
   ]
  },
  {
   "cell_type": "markdown",
   "id": "13c57321-faef-4f10-a838-074163a44735",
   "metadata": {},
   "source": [
    "## Get the schemas for each of the four types of machines. Note: Schema refers to the definition of the schema on a database. Observe the datatypes of each field."
   ]
  },
  {
   "cell_type": "code",
   "execution_count": 4,
   "id": "27a9aa03-b415-431d-84c8-cfac3b350ad8",
   "metadata": {},
   "outputs": [
    {
     "name": "stdout",
     "output_type": "stream",
     "text": [
      "machineID            object\n",
      "speedPct            float64\n",
      "velX                float64\n",
      "velY                float64\n",
      "velZ                float64\n",
      "timestamp    datetime64[ns]\n",
      "dtype: object\n"
     ]
    }
   ],
   "source": [
    "for i, file in enumerate(f):\n",
    "    if list(f[0].dtypes) == list(file.dtypes):\n",
    "        if i == len(f) - 1:\n",
    "            print(file.dtypes)\n",
    "    else:\n",
    "        print('Files do not have a common schema')\n",
    "        break    "
   ]
  },
  {
   "cell_type": "markdown",
   "id": "6d2b60a1-526e-4c51-a33f-8fc3b6bdf377",
   "metadata": {},
   "source": [
    "# SECTION 5: Exploring the dataset. "
   ]
  },
  {
   "cell_type": "markdown",
   "id": "cdaf0eef-7e30-45a5-8477-6672592951f9",
   "metadata": {},
   "source": [
    "## 5a: Get a statistical summary of the dataset."
   ]
  },
  {
   "cell_type": "code",
   "execution_count": 5,
   "id": "7ec8e89a-eb21-459c-9ed3-fc81e5a44dab",
   "metadata": {},
   "outputs": [
    {
     "name": "stdout",
     "output_type": "stream",
     "text": [
      "1: File ../data/raw/202201W1-speedoA.parquet --------------------------------------------------\n",
      "           speedPct          velX          velY          velZ\n",
      "count  1.209600e+06  1.209600e+06  1.209600e+06  1.209600e+06\n",
      "mean   5.944089e-01  1.000457e+00 -4.002768e-03 -1.211582e-01\n",
      "std    2.437940e-01  1.060594e+00  1.062076e+00  6.784054e-01\n",
      "min    2.000000e-01 -8.000000e+00 -8.000000e+00 -5.867000e+00\n",
      "25%    4.000000e-01  9.100000e-01 -1.090000e-01 -2.580000e-01\n",
      "50%    6.000000e-01  9.920000e-01  2.000000e-02 -1.250000e-01\n",
      "75%    8.000000e-01  1.070000e+00  1.680000e-01 -1.600000e-02\n",
      "max    1.000000e+00  7.996000e+00  7.996000e+00  4.992000e+00 \n",
      "\n",
      "2: File ../data/raw/202201W1-speedoB.parquet --------------------------------------------------\n",
      "           speedPct          velX          velY          velZ\n",
      "count  1.209600e+06  1.209600e+06  1.209600e+06  1.209600e+06\n",
      "mean   5.944089e-01  9.966559e-01  1.449825e-02 -1.120151e-01\n",
      "std    2.437940e-01  7.765714e-01  6.813404e-01  5.548551e-01\n",
      "min    2.000000e-01 -8.000000e+00 -8.000000e+00 -4.305000e+00\n",
      "25%    4.000000e-01  9.410000e-01 -1.130000e-01 -2.270000e-01\n",
      "50%    6.000000e-01  9.960000e-01  1.200000e-02 -1.210000e-01\n",
      "75%    8.000000e-01  1.051000e+00  1.600000e-01  0.000000e+00\n",
      "max    1.000000e+00  7.996000e+00  7.391000e+00  6.086000e+00 \n",
      "\n",
      "3: File ../data/raw/202201W1-speedoC.parquet --------------------------------------------------\n",
      "           speedPct          velX          velY          velZ\n",
      "count  1.209600e+06  1.209600e+06  1.209600e+06  1.209600e+06\n",
      "mean   5.944089e-01  9.887375e-01  5.871895e-03 -1.193284e-01\n",
      "std    2.437940e-01  7.629166e-02  8.424138e-02  8.620179e-02\n",
      "min    2.000000e-01  6.480000e-01 -3.910000e-01 -5.820000e-01\n",
      "25%    4.000000e-01  9.610000e-01 -5.500000e-02 -1.450000e-01\n",
      "50%    6.000000e-01  9.880000e-01  0.000000e+00 -1.250000e-01\n",
      "75%    8.000000e-01  1.020000e+00  7.000000e-02 -1.050000e-01\n",
      "max    1.000000e+00  1.355000e+00  3.010000e-01  3.980000e-01 \n",
      "\n"
     ]
    }
   ],
   "source": [
    "for i, file in enumerate(f):\n",
    "    print(str(i+1) +': File ../data/raw/202201W1-' + f_type + ID[i] + '.parquet ' + '-'*50)\n",
    "    print(file.describe(), '\\n')"
   ]
  },
  {
   "cell_type": "markdown",
   "id": "6dd98c95-e1bc-46c5-b0b6-d20802386771",
   "metadata": {},
   "source": [
    "## 5b: Get the number of missing values, null values, or NaN values."
   ]
  },
  {
   "cell_type": "code",
   "execution_count": 11,
   "id": "36471895-066a-44c0-8131-0cc4370a883f",
   "metadata": {},
   "outputs": [
    {
     "name": "stdout",
     "output_type": "stream",
     "text": [
      "The number of NaN values in each dataframe is:\n",
      "File ../data/raw/202201W1-speedoA.parquet : 0\n",
      "File ../data/raw/202201W1-speedoB.parquet : 0\n",
      "File ../data/raw/202201W1-speedoC.parquet : 0\n"
     ]
    }
   ],
   "source": [
    "print('The number of NaN values in each dataframe is:')\n",
    "for i, file in enumerate(f):\n",
    "    print(\"File ../data/raw/202201W1-\" + f_type + ID[i] + \".parquet : {}\".format(file.isna().sum().sum()))"
   ]
  },
  {
   "cell_type": "code",
   "execution_count": 12,
   "id": "af1dea6e-fc2a-4b80-9cb9-6a4bf0c5a6a7",
   "metadata": {},
   "outputs": [
    {
     "name": "stdout",
     "output_type": "stream",
     "text": [
      "The number of null values in each dataframe is:\n",
      "File ../data/raw/202201W1-speedoA.parquet : 0\n",
      "File ../data/raw/202201W1-speedoB.parquet : 0\n",
      "File ../data/raw/202201W1-speedoC.parquet : 0\n"
     ]
    }
   ],
   "source": [
    "print('The number of null values in each dataframe is:')\n",
    "for i, file in enumerate(f):\n",
    "    print(\"File ../data/raw/202201W1-\" + f_type + ID[i] + \".parquet : {}\".format(file.isnull().sum().sum()))"
   ]
  },
  {
   "cell_type": "markdown",
   "id": "a02e8671-0707-4635-bb34-2c2a9292fa2a",
   "metadata": {},
   "source": [
    "## 5c: Establish the ranges of each variable, i.e., get the min and max for each field."
   ]
  },
  {
   "cell_type": "code",
   "execution_count": 8,
   "id": "318bdc85-c68d-4793-9235-7a39bd6bdfa7",
   "metadata": {},
   "outputs": [
    {
     "name": "stdout",
     "output_type": "stream",
     "text": [
      "1: File ../data/raw/202201W1-speedoA.parquet --------------------------------------------------\n",
      "     speedPct   velX   velY   velZ\n",
      "min       0.2 -8.000 -8.000 -5.867\n",
      "max       1.0  7.996  7.996  4.992 \n",
      "\n",
      "2: File ../data/raw/202201W1-speedoB.parquet --------------------------------------------------\n",
      "     speedPct   velX   velY   velZ\n",
      "min       0.2 -8.000 -8.000 -4.305\n",
      "max       1.0  7.996  7.391  6.086 \n",
      "\n",
      "3: File ../data/raw/202201W1-speedoC.parquet --------------------------------------------------\n",
      "     speedPct   velX   velY   velZ\n",
      "min       0.2  0.648 -0.391 -0.582\n",
      "max       1.0  1.355  0.301  0.398 \n",
      "\n"
     ]
    }
   ],
   "source": [
    "for i, file in enumerate(f):\n",
    "    print(str(i+1) +': File ../data/raw/202201W1-' + f_type + ID[i] + '.parquet ' + '-'*50)\n",
    "    print(file.select_dtypes(include=['float64']).agg(['min','max']), '\\n')"
   ]
  },
  {
   "cell_type": "markdown",
   "id": "6aa26e0d-ee43-4d02-a903-2996a97accb5",
   "metadata": {},
   "source": [
    "## 5d: Get the rate at which data arrives. Use the timestamp field in the dataset."
   ]
  },
  {
   "cell_type": "code",
   "execution_count": 9,
   "id": "d95bfc16-e813-497d-80cc-4e9a23885f2d",
   "metadata": {},
   "outputs": [
    {
     "name": "stdout",
     "output_type": "stream",
     "text": [
      "1: File ../data/raw/202201W1-speedoA.parquet --------------------------------------------------\n",
      "Average rate of incoming data = 2.0 entries per second \n",
      "\n",
      "2: File ../data/raw/202201W1-speedoB.parquet --------------------------------------------------\n",
      "Average rate of incoming data = 2.0 entries per second \n",
      "\n",
      "3: File ../data/raw/202201W1-speedoC.parquet --------------------------------------------------\n",
      "Average rate of incoming data = 2.0 entries per second \n",
      "\n"
     ]
    }
   ],
   "source": [
    "for i, file in enumerate(f):\n",
    "    print(str(i+1) +': File ../data/raw/202201W1-' + f_type + ID[i] + '.parquet ' + '-'*50)\n",
    "    print('Average rate of incoming data = ' + \n",
    "          str(1/file['timestamp'].diff().mean().total_seconds()) + ' entries per second', '\\n')"
   ]
  }
 ],
 "metadata": {
  "kernelspec": {
   "display_name": "Python 3 (ipykernel)",
   "language": "python",
   "name": "python3"
  },
  "language_info": {
   "codemirror_mode": {
    "name": "ipython",
    "version": 3
   },
   "file_extension": ".py",
   "mimetype": "text/x-python",
   "name": "python",
   "nbconvert_exporter": "python",
   "pygments_lexer": "ipython3",
   "version": "3.9.5"
  }
 },
 "nbformat": 4,
 "nbformat_minor": 5
}
