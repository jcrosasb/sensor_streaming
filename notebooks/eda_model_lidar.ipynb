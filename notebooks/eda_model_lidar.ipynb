{
 "cells": [
  {
   "cell_type": "code",
   "execution_count": 1,
   "id": "99ee9cbb-5dcb-45cd-8eaf-45b5965b3c42",
   "metadata": {},
   "outputs": [],
   "source": [
    "import pandas as pd"
   ]
  },
  {
   "cell_type": "markdown",
   "id": "27c46714-a5fd-4d64-9d79-4bca12fef0c3",
   "metadata": {},
   "source": [
    "# SECTION 3: Statistic Summary"
   ]
  },
  {
   "cell_type": "markdown",
   "id": "9388f509-010e-4466-8887-4fd45daa75a9",
   "metadata": {},
   "source": [
    "## Load the dataset using pandas and get a summary of the number of machines for each of the four types."
   ]
  },
  {
   "cell_type": "code",
   "execution_count": 2,
   "id": "e217583e-0497-44eb-8b7a-b6f438ca702e",
   "metadata": {},
   "outputs": [],
   "source": [
    "f_type = 'lidar'  # Type of file (lidar, m, cart, speedo)\n",
    "ID = ['In', 'Out', 'S1', 'S2']  # ID for each file"
   ]
  },
  {
   "cell_type": "code",
   "execution_count": 3,
   "id": "02b5a1b6-e04a-4efb-a3c9-b55ca82b63a7",
   "metadata": {},
   "outputs": [],
   "source": [
    "In, Out, S1, S2 = [pd.read_parquet('../data/raw/202201W1-' + f_type + ID[i] + '.parquet', engine='pyarrow') for i in range(len(ID))]\n",
    "f = [In, Out, S1, S2]  # Create list with all loaded files"
   ]
  },
  {
   "cell_type": "markdown",
   "id": "9d683cb7-a180-44a2-83cf-e4cbf9871aca",
   "metadata": {},
   "source": [
    "# SECTION 4: Defining the Schemas"
   ]
  },
  {
   "cell_type": "markdown",
   "id": "13c57321-faef-4f10-a838-074163a44735",
   "metadata": {},
   "source": [
    "## Get the schemas for each of the four types of machines. Note: Schema refers to the definition of the schema on a database. Observe the datatypes of each field."
   ]
  },
  {
   "cell_type": "code",
   "execution_count": 4,
   "id": "27a9aa03-b415-431d-84c8-cfac3b350ad8",
   "metadata": {},
   "outputs": [
    {
     "name": "stdout",
     "output_type": "stream",
     "text": [
      "machineID            object\n",
      "tempS1              float64\n",
      "tempS2              float64\n",
      "distX               float64\n",
      "distY               float64\n",
      "distZ               float64\n",
      "forceX              float64\n",
      "forceY              float64\n",
      "forceZ              float64\n",
      "timestamp    datetime64[ns]\n",
      "dtype: object\n"
     ]
    }
   ],
   "source": [
    "for i, file in enumerate(f):\n",
    "    if list(f[0].dtypes) == list(file.dtypes):\n",
    "        if i == len(f) - 1:\n",
    "            print(file.dtypes)\n",
    "    else:\n",
    "        print('Files do not have a common schema')\n",
    "        break    "
   ]
  },
  {
   "cell_type": "markdown",
   "id": "6d2b60a1-526e-4c51-a33f-8fc3b6bdf377",
   "metadata": {},
   "source": [
    "# SECTION 5: Exploring the dataset. "
   ]
  },
  {
   "cell_type": "markdown",
   "id": "cdaf0eef-7e30-45a5-8477-6672592951f9",
   "metadata": {},
   "source": [
    "## 5a: Get a statistical summary of the dataset."
   ]
  },
  {
   "cell_type": "code",
   "execution_count": 5,
   "id": "7ec8e89a-eb21-459c-9ed3-fc81e5a44dab",
   "metadata": {},
   "outputs": [
    {
     "name": "stdout",
     "output_type": "stream",
     "text": [
      "1: File ../data/raw/202201W1-lidarIn.parquet --------------------------------------------------\n",
      "             tempS1        tempS2         distX         distY         distZ  \\\n",
      "count  1.209600e+07  1.209600e+07  1.209600e+07  1.209600e+07  1.209600e+07   \n",
      "mean   1.222702e+01  1.189868e+01 -1.111646e-01 -1.110364e-01 -1.084967e-01   \n",
      "std    8.030981e+00  7.395107e+00  9.348594e-02  7.947732e-02  1.070118e-01   \n",
      "min    0.000000e+00  0.000000e+00 -9.570000e-01 -7.710000e-01 -1.169000e+00   \n",
      "25%    5.900000e+00  6.100000e+00 -1.730000e-01 -1.640000e-01 -1.780000e-01   \n",
      "50%    1.120000e+01  1.120000e+01 -1.100000e-01 -1.100000e-01 -1.070000e-01   \n",
      "75%    1.730000e+01  1.660000e+01 -4.900000e-02 -5.900000e-02 -3.900000e-02   \n",
      "max    1.042000e+02  1.025000e+02  4.880000e-01  5.350000e-01  8.910000e-01   \n",
      "\n",
      "             forceX        forceY        forceZ  \n",
      "count  1.209600e+07  1.209600e+07  1.209600e+07  \n",
      "mean   1.274295e+02  1.139140e+02  1.155029e+02  \n",
      "std    8.895342e+01  6.663811e+01  6.938197e+01  \n",
      "min    0.000000e+00  0.000000e+00  0.000000e+00  \n",
      "25%    5.600000e+01  6.600000e+01  6.300000e+01  \n",
      "50%    1.150000e+02  1.070000e+02  1.100000e+02  \n",
      "75%    1.810000e+02  1.540000e+02  1.560000e+02  \n",
      "max    1.008000e+03  8.280000e+02  8.690000e+02   \n",
      "\n",
      "2: File ../data/raw/202201W1-lidarOut.parquet --------------------------------------------------\n",
      "             tempS1        tempS2         distX         distY         distZ  \\\n",
      "count  1.209600e+07  1.209600e+07  1.209600e+07  1.209600e+07  1.209600e+07   \n",
      "mean   1.296932e+01  1.258687e+01 -1.169597e-01 -1.168359e-01 -1.135515e-01   \n",
      "std    8.557009e+00  7.855059e+00  1.002687e-01  8.245211e-02  1.383299e-01   \n",
      "min    0.000000e+00  0.000000e+00 -9.910000e-01 -8.300000e-01 -5.000000e+00   \n",
      "25%    6.300000e+00  6.600000e+00 -1.830000e-01 -1.710000e-01 -1.930000e-01   \n",
      "50%    1.200000e+01  1.200000e+01 -1.170000e-01 -1.170000e-01 -1.150000e-01   \n",
      "75%    1.830000e+01  1.760000e+01 -5.100000e-02 -6.300000e-02 -3.400000e-02   \n",
      "max    1.008000e+02  1.016000e+02  7.280000e-01  5.520000e-01  4.998000e+00   \n",
      "\n",
      "             forceX        forceY        forceZ  \n",
      "count  1.209600e+07  1.209600e+07  1.209600e+07  \n",
      "mean   1.435628e+02  1.381495e+02  1.384378e+02  \n",
      "std    1.097757e+02  9.975390e+01  9.971813e+01  \n",
      "min    0.000000e+00  0.000000e+00  0.000000e+00  \n",
      "25%    6.100000e+01  6.600000e+01  6.600000e+01  \n",
      "50%    1.250000e+02  1.220000e+02  1.220000e+02  \n",
      "75%    2.030000e+02  1.880000e+02  1.900000e+02  \n",
      "max    5.000000e+03  3.958000e+03  3.801000e+03   \n",
      "\n",
      "3: File ../data/raw/202201W1-lidarS1.parquet --------------------------------------------------\n",
      "             tempS1        tempS2         distX         distY         distZ  \\\n",
      "count  1.209600e+07  1.209600e+07  1.209600e+07  1.209600e+07  1.209600e+07   \n",
      "mean   1.287406e+01  1.257741e+01 -1.172288e-01 -1.171168e-01 -1.142933e-01   \n",
      "std    8.370044e+00  7.781995e+00  9.175421e-02  7.544444e-02  1.114261e-01   \n",
      "min    0.000000e+00  0.000000e+00 -9.080000e-01 -7.810000e-01 -1.426000e+00   \n",
      "25%    6.300000e+00  6.600000e+00 -1.780000e-01 -1.660000e-01 -1.860000e-01   \n",
      "50%    1.200000e+01  1.200000e+01 -1.170000e-01 -1.170000e-01 -1.150000e-01   \n",
      "75%    1.810000e+01  1.760000e+01 -5.600000e-02 -6.800000e-02 -4.200000e-02   \n",
      "max    1.030000e+02  1.086000e+02  5.270000e-01  4.270000e-01  1.208000e+00   \n",
      "\n",
      "             forceX        forceY        forceZ  \n",
      "count  1.209600e+07  1.209600e+07  1.209600e+07  \n",
      "mean   1.336762e+02  1.187351e+02  1.198934e+02  \n",
      "std    9.218757e+01  6.567936e+01  7.015624e+01  \n",
      "min    0.000000e+00  0.000000e+00  0.000000e+00  \n",
      "25%    6.100000e+01  7.100000e+01  6.800000e+01  \n",
      "50%    1.200000e+02  1.150000e+02  1.150000e+02  \n",
      "75%    1.900000e+02  1.610000e+02  1.640000e+02  \n",
      "max    1.130000e+03  7.370000e+02  8.760000e+02   \n",
      "\n",
      "4: File ../data/raw/202201W1-lidarS2.parquet --------------------------------------------------\n",
      "             tempS1        tempS2         distX         distY         distZ  \\\n",
      "count  1.209600e+07  1.209600e+07  1.209600e+07  1.209600e+07  1.209600e+07   \n",
      "mean   1.292103e+01  1.261110e+01 -1.176991e-01 -1.175990e-01 -1.146708e-01   \n",
      "std    8.404054e+00  7.780312e+00  9.342985e-02  7.678052e-02  1.130069e-01   \n",
      "min    0.000000e+00  0.000000e+00 -9.550000e-01 -7.570000e-01 -1.907000e+00   \n",
      "25%    6.300000e+00  6.600000e+00 -1.810000e-01 -1.680000e-01 -1.880000e-01   \n",
      "50%    1.200000e+01  1.200000e+01 -1.170000e-01 -1.170000e-01 -1.150000e-01   \n",
      "75%    1.810000e+01  1.760000e+01 -5.400000e-02 -6.600000e-02 -4.200000e-02   \n",
      "max    1.016000e+02  1.030000e+02  5.220000e-01  4.540000e-01  1.179000e+00   \n",
      "\n",
      "             forceX        forceY        forceZ  \n",
      "count  1.209600e+07  1.209600e+07  1.209600e+07  \n",
      "mean   1.348285e+02  1.267860e+02  1.273255e+02  \n",
      "std    9.336553e+01  8.441711e+01  8.492833e+01  \n",
      "min    0.000000e+00  0.000000e+00  0.000000e+00  \n",
      "25%    6.100000e+01  6.600000e+01  6.600000e+01  \n",
      "50%    1.220000e+02  1.170000e+02  1.170000e+02  \n",
      "75%    1.930000e+02  1.710000e+02  1.730000e+02  \n",
      "max    1.211000e+03  3.975000e+03  3.801000e+03   \n",
      "\n"
     ]
    }
   ],
   "source": [
    "for i, file in enumerate(f):\n",
    "    print(str(i+1) +': File ../data/raw/202201W1-' + f_type + ID[i] + '.parquet ' + '-'*50)\n",
    "    print(file.describe(), '\\n')"
   ]
  },
  {
   "cell_type": "markdown",
   "id": "6dd98c95-e1bc-46c5-b0b6-d20802386771",
   "metadata": {},
   "source": [
    "## 5b: Get the number of missing values, null values, or NaN values."
   ]
  },
  {
   "cell_type": "code",
   "execution_count": 6,
   "id": "36471895-066a-44c0-8131-0cc4370a883f",
   "metadata": {},
   "outputs": [
    {
     "name": "stdout",
     "output_type": "stream",
     "text": [
      "The number of NaN values in each dataframe is:\n",
      "File ../data/raw/202201W1-lidarIn.parquet : 0\n",
      "File ../data/raw/202201W1-lidarOut.parquet : 0\n",
      "File ../data/raw/202201W1-lidarS1.parquet : 0\n",
      "File ../data/raw/202201W1-lidarS2.parquet : 0\n"
     ]
    }
   ],
   "source": [
    "print('The number of NaN values in each dataframe is:')\n",
    "for i, file in enumerate(f):\n",
    "    print(\"File ../data/raw/202201W1-\" + f_type + ID[i] + \".parquet : {}\".format(file.isna().sum().sum()))"
   ]
  },
  {
   "cell_type": "code",
   "execution_count": 7,
   "id": "af1dea6e-fc2a-4b80-9cb9-6a4bf0c5a6a7",
   "metadata": {},
   "outputs": [
    {
     "name": "stdout",
     "output_type": "stream",
     "text": [
      "The number of null values in each dataframe is:\n",
      "File ../data/raw/202201W1-lidarIn.parquet : 0\n",
      "File ../data/raw/202201W1-lidarOut.parquet : 0\n",
      "File ../data/raw/202201W1-lidarS1.parquet : 0\n",
      "File ../data/raw/202201W1-lidarS2.parquet : 0\n"
     ]
    }
   ],
   "source": [
    "print('The number of null values in each dataframe is:')\n",
    "for i, file in enumerate(f):\n",
    "    print(\"File ../data/raw/202201W1-\" + f_type + ID[i] + \".parquet : {}\".format(file.isnull().sum().sum()))"
   ]
  },
  {
   "cell_type": "markdown",
   "id": "a02e8671-0707-4635-bb34-2c2a9292fa2a",
   "metadata": {},
   "source": [
    "## 5c: Establish the ranges of each variable, i.e., get the min and max for each field."
   ]
  },
  {
   "cell_type": "code",
   "execution_count": 8,
   "id": "318bdc85-c68d-4793-9235-7a39bd6bdfa7",
   "metadata": {},
   "outputs": [
    {
     "name": "stdout",
     "output_type": "stream",
     "text": [
      "1: File ../data/raw/202201W1-lidarIn.parquet --------------------------------------------------\n",
      "     tempS1  tempS2  distX  distY  distZ  forceX  forceY  forceZ\n",
      "min     0.0     0.0 -0.957 -0.771 -1.169     0.0     0.0     0.0\n",
      "max   104.2   102.5  0.488  0.535  0.891  1008.0   828.0   869.0 \n",
      "\n",
      "2: File ../data/raw/202201W1-lidarOut.parquet --------------------------------------------------\n",
      "     tempS1  tempS2  distX  distY  distZ  forceX  forceY  forceZ\n",
      "min     0.0     0.0 -0.991 -0.830 -5.000     0.0     0.0     0.0\n",
      "max   100.8   101.6  0.728  0.552  4.998  5000.0  3958.0  3801.0 \n",
      "\n",
      "3: File ../data/raw/202201W1-lidarS1.parquet --------------------------------------------------\n",
      "     tempS1  tempS2  distX  distY  distZ  forceX  forceY  forceZ\n",
      "min     0.0     0.0 -0.908 -0.781 -1.426     0.0     0.0     0.0\n",
      "max   103.0   108.6  0.527  0.427  1.208  1130.0   737.0   876.0 \n",
      "\n",
      "4: File ../data/raw/202201W1-lidarS2.parquet --------------------------------------------------\n",
      "     tempS1  tempS2  distX  distY  distZ  forceX  forceY  forceZ\n",
      "min     0.0     0.0 -0.955 -0.757 -1.907     0.0     0.0     0.0\n",
      "max   101.6   103.0  0.522  0.454  1.179  1211.0  3975.0  3801.0 \n",
      "\n"
     ]
    }
   ],
   "source": [
    "for i, file in enumerate(f):\n",
    "    print(str(i+1) +': File ../data/raw/202201W1-' + f_type + ID[i] + '.parquet ' + '-'*50)\n",
    "    print(file.select_dtypes(include=['float64']).agg(['min','max']), '\\n')"
   ]
  },
  {
   "cell_type": "markdown",
   "id": "6aa26e0d-ee43-4d02-a903-2996a97accb5",
   "metadata": {},
   "source": [
    "## 5d: Get the rate at which data arrives. Use the timestamp field in the dataset."
   ]
  },
  {
   "cell_type": "code",
   "execution_count": 9,
   "id": "d95bfc16-e813-497d-80cc-4e9a23885f2d",
   "metadata": {},
   "outputs": [
    {
     "name": "stdout",
     "output_type": "stream",
     "text": [
      "1: File ../data/raw/202201W1-lidarIn.parquet --------------------------------------------------\n",
      "Average rate of incoming data = 20.0 entries per second \n",
      "\n",
      "2: File ../data/raw/202201W1-lidarOut.parquet --------------------------------------------------\n",
      "Average rate of incoming data = 20.0 entries per second \n",
      "\n",
      "3: File ../data/raw/202201W1-lidarS1.parquet --------------------------------------------------\n",
      "Average rate of incoming data = 20.0 entries per second \n",
      "\n",
      "4: File ../data/raw/202201W1-lidarS2.parquet --------------------------------------------------\n",
      "Average rate of incoming data = 20.0 entries per second \n",
      "\n"
     ]
    }
   ],
   "source": [
    "for i, file in enumerate(f):\n",
    "    print(str(i+1) +': File ../data/raw/202201W1-' + f_type + ID[i] + '.parquet ' + '-'*50)\n",
    "    print('Average rate of incoming data = ' + \n",
    "          str(1/file['timestamp'].diff().mean().total_seconds()) + ' entries per second', '\\n')"
   ]
  },
  {
   "cell_type": "code",
   "execution_count": null,
   "id": "569c2e6c-0bfe-4a48-abf5-41d781504c69",
   "metadata": {},
   "outputs": [],
   "source": []
  }
 ],
 "metadata": {
  "kernelspec": {
   "display_name": "Python 3 (ipykernel)",
   "language": "python",
   "name": "python3"
  },
  "language_info": {
   "codemirror_mode": {
    "name": "ipython",
    "version": 3
   },
   "file_extension": ".py",
   "mimetype": "text/x-python",
   "name": "python",
   "nbconvert_exporter": "python",
   "pygments_lexer": "ipython3",
   "version": "3.9.5"
  }
 },
 "nbformat": 4,
 "nbformat_minor": 5
}
