{
 "cells": [
  {
   "cell_type": "code",
   "execution_count": 6,
   "id": "eef1ce6d-9b3a-49bf-8e16-75e4c7a9d596",
   "metadata": {},
   "outputs": [],
   "source": [
    "# !conda install -c conda-forge python-confluent-kafka --yes"
   ]
  },
  {
   "cell_type": "code",
   "execution_count": 7,
   "id": "b4a47795-f19b-4348-936a-7a8706fa7ec7",
   "metadata": {},
   "outputs": [],
   "source": [
    "from pyarrow.parquet import ParquetFile\n",
    "from confluent_kafka import Producer\n",
    "import pyarrow as pa \n",
    "import pandas as pd\n",
    "import json\n",
    "import time"
   ]
  },
  {
   "cell_type": "code",
   "execution_count": 8,
   "id": "6b41924d-3227-49c5-8ac2-41254f399cda",
   "metadata": {},
   "outputs": [],
   "source": [
    "# Configuration for the bootstraping services\n",
    "conf = {'bootstrap.servers':'broker:9092'}\n",
    "producer = Producer(conf)"
   ]
  },
  {
   "cell_type": "code",
   "execution_count": 4,
   "id": "21859400-65d8-405d-b335-0f73b2fbc42e",
   "metadata": {},
   "outputs": [],
   "source": [
    "topic_name = 'lidarOut' # topic name (has to be the tag for parquet files in ../data/raw)\n",
    "size = 100 # number of rows to be read from parquet file\n",
    "\n",
    "# Sample with the first \"size\" rows of dataframe with tag \"topic_name\"\n",
    "pf = ParquetFile('../data/raw/202201W1-' + topic_name + '.parquet') \n",
    "nrows = next(pf.iter_batches(batch_size = size)) \n",
    "df = pa.Table.from_batches([nrows]).to_pandas() "
   ]
  },
  {
   "cell_type": "code",
   "execution_count": 5,
   "id": "2453ee49-b6c0-4553-a3e5-34d59018d5be",
   "metadata": {},
   "outputs": [
    {
     "name": "stdout",
     "output_type": "stream",
     "text": [
      "Sending: {'machineID': 'lidarOut', 'tempS1': 22.0, 'tempS2': 1.2, 'distX': -0.215, 'distY': -0.122, 'distZ': -0.168, 'forceX': 227.0, 'forceY': 173.0, 'forceZ': 71.0, 'timestamp': '2022-01-01 00:00:00'}\n",
      "Sending: {'machineID': 'lidarOut', 'tempS1': 17.599999999999998, 'tempS2': 13.900000000000002, 'distX': -0.298, 'distY': -0.247, 'distZ': -0.195, 'forceX': 134.0, 'forceY': 44.0, 'forceZ': 281.0, 'timestamp': '2022-01-01 00:00:00.050000'}\n",
      "Sending: {'machineID': 'lidarOut', 'tempS1': 7.1, 'tempS2': 13.900000000000002, 'distX': -0.161, 'distY': -0.166, 'distZ': -0.098, 'forceX': 151.0, 'forceY': 7.0, 'forceZ': 295.0, 'timestamp': '2022-01-01 00:00:00.100000'}\n",
      "Sending: {'machineID': 'lidarOut', 'tempS1': 1.2, 'tempS2': 13.700000000000001, 'distX': -0.139, 'distY': -0.11, 'distZ': -0.234, 'forceX': 134.0, 'forceY': 193.0, 'forceZ': 103.0, 'timestamp': '2022-01-01 00:00:00.150000'}\n",
      "Sending: {'machineID': 'lidarOut', 'tempS1': 26.1, 'tempS2': 16.1, 'distX': -0.186, 'distY': -0.059, 'distZ': -0.151, 'forceX': 195.0, 'forceY': 288.0, 'forceZ': 81.0, 'timestamp': '2022-01-01 00:00:00.200000'}\n",
      "Sending: {'machineID': 'lidarOut', 'tempS1': 21.2, 'tempS2': 4.3999999999999995, 'distX': -0.159, 'distY': -0.178, 'distZ': -0.237, 'forceX': 83.0, 'forceY': 95.0, 'forceZ': 208.0, 'timestamp': '2022-01-01 00:00:00.250000'}\n",
      "Sending: {'machineID': 'lidarOut', 'tempS1': 12.9, 'tempS2': 6.1, 'distX': -0.059, 'distY': -0.137, 'distZ': -0.198, 'forceX': 190.0, 'forceY': 17.0, 'forceZ': 166.0, 'timestamp': '2022-01-01 00:00:00.300000'}\n",
      "Sending: {'machineID': 'lidarOut', 'tempS1': 1.7000000000000002, 'tempS2': 11.5, 'distX': -0.129, 'distY': -0.127, 'distZ': -0.215, 'forceX': 193.0, 'forceY': 98.0, 'forceZ': 105.0, 'timestamp': '2022-01-01 00:00:00.350000'}\n",
      "Sending: {'machineID': 'lidarOut', 'tempS1': 1.0, 'tempS2': 24.4, 'distX': -0.19, 'distY': -0.083, 'distZ': -0.22, 'forceX': 83.0, 'forceY': 103.0, 'forceZ': 110.0, 'timestamp': '2022-01-01 00:00:00.400000'}\n",
      "Sending: {'machineID': 'lidarOut', 'tempS1': 10.0, 'tempS2': 12.9, 'distX': -0.161, 'distY': -0.134, 'distZ': -0.278, 'forceX': 10.0, 'forceY': 164.0, 'forceZ': 24.0, 'timestamp': '2022-01-01 00:00:00.450000'}\n",
      "Sending: {'machineID': 'lidarOut', 'tempS1': 15.4, 'tempS2': 14.399999999999999, 'distX': -0.056, 'distY': -0.044, 'distZ': -0.298, 'forceX': 98.0, 'forceY': 188.0, 'forceZ': 171.0, 'timestamp': '2022-01-01 00:00:00.500000'}\n",
      "Sending: {'machineID': 'lidarOut', 'tempS1': 4.2, 'tempS2': 21.5, 'distX': -0.024, 'distY': -0.146, 'distZ': -0.12, 'forceX': 278.0, 'forceY': 44.0, 'forceZ': 122.0, 'timestamp': '2022-01-01 00:00:00.550000'}\n",
      "Sending: {'machineID': 'lidarOut', 'tempS1': 8.799999999999999, 'tempS2': 12.7, 'distX': -0.103, 'distY': -0.061, 'distZ': -0.259, 'forceX': 2.0, 'forceY': 2.0, 'forceZ': 22.0, 'timestamp': '2022-01-01 00:00:00.600000'}\n",
      "Sending: {'machineID': 'lidarOut', 'tempS1': 3.2, 'tempS2': 3.6999999999999997, 'distX': -0.1, 'distY': -0.154, 'distZ': -0.149, 'forceX': 105.0, 'forceY': 229.0, 'forceZ': 144.0, 'timestamp': '2022-01-01 00:00:00.650000'}\n",
      "Sending: {'machineID': 'lidarOut', 'tempS1': 21.5, 'tempS2': 6.1, 'distX': 0.032, 'distY': -0.076, 'distZ': -0.293, 'forceX': 212.0, 'forceY': 295.0, 'forceZ': 71.0, 'timestamp': '2022-01-01 00:00:00.700000'}\n",
      "Sending: {'machineID': 'lidarOut', 'tempS1': 8.3, 'tempS2': 5.4, 'distX': -0.044, 'distY': -0.142, 'distZ': -0.034, 'forceX': 88.0, 'forceY': 183.0, 'forceZ': 251.0, 'timestamp': '2022-01-01 00:00:00.750000'}\n",
      "Sending: {'machineID': 'lidarOut', 'tempS1': 9.3, 'tempS2': 16.1, 'distX': -0.117, 'distY': -0.144, 'distZ': -0.078, 'forceX': 229.0, 'forceY': 54.0, 'forceZ': 24.0, 'timestamp': '2022-01-01 00:00:00.800000'}\n",
      "Sending: {'machineID': 'lidarOut', 'tempS1': 13.200000000000001, 'tempS2': 8.1, 'distX': -0.151, 'distY': -0.107, 'distZ': -0.11, 'forceX': 171.0, 'forceY': 186.0, 'forceZ': 90.0, 'timestamp': '2022-01-01 00:00:00.850000'}\n",
      "Sending: {'machineID': 'lidarOut', 'tempS1': 29.5, 'tempS2': 1.7000000000000002, 'distX': -0.198, 'distY': -0.193, 'distZ': -0.029, 'forceX': 46.0, 'forceY': 269.0, 'forceZ': 78.0, 'timestamp': '2022-01-01 00:00:00.900000'}\n",
      "Sending: {'machineID': 'lidarOut', 'tempS1': 25.4, 'tempS2': 7.3, 'distX': -0.066, 'distY': -0.161, 'distZ': -0.166, 'forceX': 200.0, 'forceY': 144.0, 'forceZ': 217.0, 'timestamp': '2022-01-01 00:00:00.950000'}\n",
      "Sending: {'machineID': 'lidarOut', 'tempS1': 17.299999999999997, 'tempS2': 8.3, 'distX': -0.117, 'distY': -0.112, 'distZ': -0.02, 'forceX': 146.0, 'forceY': 220.0, 'forceZ': 183.0, 'timestamp': '2022-01-01 00:00:01'}\n",
      "Sending: {'machineID': 'lidarOut', 'tempS1': 4.6, 'tempS2': 9.3, 'distX': -0.237, 'distY': -0.183, 'distZ': -0.037, 'forceX': 76.0, 'forceY': 122.0, 'forceZ': 278.0, 'timestamp': '2022-01-01 00:00:01.050000'}\n",
      "Sending: {'machineID': 'lidarOut', 'tempS1': 25.4, 'tempS2': 2.1999999999999997, 'distX': -0.151, 'distY': -0.071, 'distZ': -0.127, 'forceX': 166.0, 'forceY': 120.0, 'forceZ': 203.0, 'timestamp': '2022-01-01 00:00:01.100000'}\n",
      "Sending: {'machineID': 'lidarOut', 'tempS1': 34.4, 'tempS2': 8.5, 'distX': -0.081, 'distY': -0.229, 'distZ': 0.037, 'forceX': 20.0, 'forceY': 310.0, 'forceZ': 39.0, 'timestamp': '2022-01-01 00:00:01.150000'}\n",
      "Sending: {'machineID': 'lidarOut', 'tempS1': 23.9, 'tempS2': 5.1, 'distX': -0.02, 'distY': -0.137, 'distZ': 0.071, 'forceX': 51.0, 'forceY': 369.0, 'forceZ': 90.0, 'timestamp': '2022-01-01 00:00:01.200000'}\n",
      "Sending: {'machineID': 'lidarOut', 'tempS1': 11.0, 'tempS2': 12.5, 'distX': -0.12, 'distY': -0.068, 'distZ': -0.249, 'forceX': 46.0, 'forceY': 93.0, 'forceZ': 415.0, 'timestamp': '2022-01-01 00:00:01.250000'}\n",
      "Sending: {'machineID': 'lidarOut', 'tempS1': 8.5, 'tempS2': 23.200000000000003, 'distX': -0.159, 'distY': -0.01, 'distZ': 0.029, 'forceX': 239.0, 'forceY': 347.0, 'forceZ': 95.0, 'timestamp': '2022-01-01 00:00:01.300000'}\n",
      "Sending: {'machineID': 'lidarOut', 'tempS1': 13.900000000000002, 'tempS2': 21.0, 'distX': 0.037, 'distY': -0.151, 'distZ': 0.244, 'forceX': 254.0, 'forceY': 2.0, 'forceZ': 393.0, 'timestamp': '2022-01-01 00:00:01.350000'}\n",
      "Sending: {'machineID': 'lidarOut', 'tempS1': 9.8, 'tempS2': 12.9, 'distX': 0.002, 'distY': -0.039, 'distZ': -0.2, 'forceX': 164.0, 'forceY': 51.0, 'forceZ': 295.0, 'timestamp': '2022-01-01 00:00:01.400000'}\n",
      "Sending: {'machineID': 'lidarOut', 'tempS1': 6.1, 'tempS2': 14.2, 'distX': -0.156, 'distY': -0.1, 'distZ': -0.317, 'forceX': 15.0, 'forceY': 425.0, 'forceZ': 78.0, 'timestamp': '2022-01-01 00:00:01.450000'}\n",
      "Sending: {'machineID': 'lidarOut', 'tempS1': 4.2, 'tempS2': 17.1, 'distX': -0.154, 'distY': -0.02, 'distZ': -0.171, 'forceX': 93.0, 'forceY': 181.0, 'forceZ': 215.0, 'timestamp': '2022-01-01 00:00:01.500000'}\n",
      "Sending: {'machineID': 'lidarOut', 'tempS1': 2.0, 'tempS2': 11.0, 'distX': 0.007, 'distY': -0.168, 'distZ': 0.015, 'forceX': 361.0, 'forceY': 100.0, 'forceZ': 105.0, 'timestamp': '2022-01-01 00:00:01.550000'}\n",
      "Sending: {'machineID': 'lidarOut', 'tempS1': 5.1, 'tempS2': 16.1, 'distX': 0.107, 'distY': -0.122, 'distZ': -0.203, 'forceX': 12.0, 'forceY': 129.0, 'forceZ': 215.0, 'timestamp': '2022-01-01 00:00:01.600000'}\n",
      "Sending: {'machineID': 'lidarOut', 'tempS1': 13.200000000000001, 'tempS2': 20.8, 'distX': 0.022, 'distY': -0.02, 'distZ': -0.134, 'forceX': 261.0, 'forceY': 205.0, 'forceZ': 269.0, 'timestamp': '2022-01-01 00:00:01.650000'}\n",
      "Sending: {'machineID': 'lidarOut', 'tempS1': 21.5, 'tempS2': 24.7, 'distX': -0.132, 'distY': 0.032, 'distZ': -0.144, 'forceX': 120.0, 'forceY': 237.0, 'forceZ': 134.0, 'timestamp': '2022-01-01 00:00:01.700000'}\n",
      "Sending: {'machineID': 'lidarOut', 'tempS1': 9.8, 'tempS2': 3.9, 'distX': -0.115, 'distY': -0.046, 'distZ': 0.042, 'forceX': 208.0, 'forceY': 242.0, 'forceZ': 261.0, 'timestamp': '2022-01-01 00:00:01.750000'}\n",
      "Sending: {'machineID': 'lidarOut', 'tempS1': 10.299999999999999, 'tempS2': 4.2, 'distX': -0.012, 'distY': -0.122, 'distZ': -0.305, 'forceX': 164.0, 'forceY': 22.0, 'forceZ': 278.0, 'timestamp': '2022-01-01 00:00:01.800000'}\n",
      "Sending: {'machineID': 'lidarOut', 'tempS1': 14.2, 'tempS2': 10.0, 'distX': 0.0, 'distY': -0.051, 'distZ': -0.264, 'forceX': 281.0, 'forceY': 210.0, 'forceZ': 317.0, 'timestamp': '2022-01-01 00:00:01.850000'}\n",
      "Sending: {'machineID': 'lidarOut', 'tempS1': 10.5, 'tempS2': 12.2, 'distX': -0.193, 'distY': -0.085, 'distZ': -0.073, 'forceX': 20.0, 'forceY': 76.0, 'forceZ': 308.0, 'timestamp': '2022-01-01 00:00:01.900000'}\n",
      "Sending: {'machineID': 'lidarOut', 'tempS1': 5.4, 'tempS2': 16.400000000000002, 'distX': -0.237, 'distY': -0.19, 'distZ': -0.059, 'forceX': 210.0, 'forceY': 2.0, 'forceZ': 78.0, 'timestamp': '2022-01-01 00:00:01.950000'}\n",
      "Sending: {'machineID': 'lidarOut', 'tempS1': 12.5, 'tempS2': 5.4, 'distX': -0.164, 'distY': -0.112, 'distZ': -0.063, 'forceX': 22.0, 'forceY': 366.0, 'forceZ': 288.0, 'timestamp': '2022-01-01 00:00:02'}\n",
      "Sending: {'machineID': 'lidarOut', 'tempS1': 14.2, 'tempS2': 3.9, 'distX': -0.171, 'distY': -0.11, 'distZ': -0.093, 'forceX': 98.0, 'forceY': 520.0, 'forceZ': 59.0, 'timestamp': '2022-01-01 00:00:02.050000'}\n",
      "Sending: {'machineID': 'lidarOut', 'tempS1': 20.8, 'tempS2': 16.6, 'distX': -0.176, 'distY': -0.039, 'distZ': -0.017, 'forceX': 212.0, 'forceY': 278.0, 'forceZ': 435.0, 'timestamp': '2022-01-01 00:00:02.100000'}\n",
      "Sending: {'machineID': 'lidarOut', 'tempS1': 15.4, 'tempS2': 11.200000000000001, 'distX': -0.225, 'distY': -0.083, 'distZ': -0.105, 'forceX': 142.0, 'forceY': 471.0, 'forceZ': 425.0, 'timestamp': '2022-01-01 00:00:02.150000'}\n",
      "Sending: {'machineID': 'lidarOut', 'tempS1': 10.7, 'tempS2': 4.9, 'distX': -0.303, 'distY': -0.122, 'distZ': 0.002, 'forceX': 244.0, 'forceY': 93.0, 'forceZ': 295.0, 'timestamp': '2022-01-01 00:00:02.200000'}\n",
      "Sending: {'machineID': 'lidarOut', 'tempS1': 23.7, 'tempS2': 7.1, 'distX': -0.205, 'distY': -0.137, 'distZ': -0.186, 'forceX': 93.0, 'forceY': 215.0, 'forceZ': 83.0, 'timestamp': '2022-01-01 00:00:02.250000'}\n",
      "Sending: {'machineID': 'lidarOut', 'tempS1': 24.2, 'tempS2': 2.4, 'distX': -0.156, 'distY': -0.078, 'distZ': -0.154, 'forceX': 105.0, 'forceY': 427.0, 'forceZ': 24.0, 'timestamp': '2022-01-01 00:00:02.300000'}\n",
      "Sending: {'machineID': 'lidarOut', 'tempS1': 7.6, 'tempS2': 15.9, 'distX': -0.251, 'distY': -0.071, 'distZ': -0.254, 'forceX': 181.0, 'forceY': 195.0, 'forceZ': 276.0, 'timestamp': '2022-01-01 00:00:02.350000'}\n",
      "Sending: {'machineID': 'lidarOut', 'tempS1': 1.0, 'tempS2': 22.7, 'distX': -0.188, 'distY': -0.149, 'distZ': -0.146, 'forceX': 242.0, 'forceY': 100.0, 'forceZ': 283.0, 'timestamp': '2022-01-01 00:00:02.400000'}\n",
      "Sending: {'machineID': 'lidarOut', 'tempS1': 8.1, 'tempS2': 14.899999999999999, 'distX': -0.095, 'distY': -0.083, 'distZ': -0.142, 'forceX': 203.0, 'forceY': 203.0, 'forceZ': 117.0, 'timestamp': '2022-01-01 00:00:02.450000'}\n",
      "Sending: {'machineID': 'lidarOut', 'tempS1': 17.599999999999998, 'tempS2': 10.5, 'distX': -0.068, 'distY': -0.005, 'distZ': -0.11, 'forceX': 120.0, 'forceY': 212.0, 'forceZ': 51.0, 'timestamp': '2022-01-01 00:00:02.500000'}\n",
      "Sending: {'machineID': 'lidarOut', 'tempS1': 11.700000000000001, 'tempS2': 6.1, 'distX': -0.093, 'distY': -0.107, 'distZ': -0.173, 'forceX': 398.0, 'forceY': 391.0, 'forceZ': 73.0, 'timestamp': '2022-01-01 00:00:02.550000'}\n",
      "Sending: {'machineID': 'lidarOut', 'tempS1': 3.9, 'tempS2': 1.7000000000000002, 'distX': -0.1, 'distY': -0.02, 'distZ': -0.22, 'forceX': 122.0, 'forceY': 417.0, 'forceZ': 98.0, 'timestamp': '2022-01-01 00:00:02.600000'}\n",
      "Sending: {'machineID': 'lidarOut', 'tempS1': 8.3, 'tempS2': 6.3, 'distX': -0.112, 'distY': -0.137, 'distZ': -0.261, 'forceX': 173.0, 'forceY': 66.0, 'forceZ': 422.0, 'timestamp': '2022-01-01 00:00:02.650000'}\n",
      "Sending: {'machineID': 'lidarOut', 'tempS1': 9.0, 'tempS2': 5.6000000000000005, 'distX': -0.042, 'distY': -0.085, 'distZ': -0.247, 'forceX': 161.0, 'forceY': 291.0, 'forceZ': 37.0, 'timestamp': '2022-01-01 00:00:02.700000'}\n",
      "Sending: {'machineID': 'lidarOut', 'tempS1': 10.299999999999999, 'tempS2': 31.7, 'distX': -0.112, 'distY': -0.186, 'distZ': -0.032, 'forceX': 271.0, 'forceY': 88.0, 'forceZ': 46.0, 'timestamp': '2022-01-01 00:00:02.750000'}\n",
      "Sending: {'machineID': 'lidarOut', 'tempS1': 15.9, 'tempS2': 27.800000000000004, 'distX': -0.122, 'distY': -0.088, 'distZ': -0.09, 'forceX': 85.0, 'forceY': 103.0, 'forceZ': 93.0, 'timestamp': '2022-01-01 00:00:02.800000'}\n",
      "Sending: {'machineID': 'lidarOut', 'tempS1': 11.700000000000001, 'tempS2': 12.9, 'distX': -0.127, 'distY': -0.1, 'distZ': -0.012, 'forceX': 54.0, 'forceY': 764.0, 'forceZ': 190.0, 'timestamp': '2022-01-01 00:00:02.850000'}\n",
      "Sending: {'machineID': 'lidarOut', 'tempS1': 20.3, 'tempS2': 3.6999999999999997, 'distX': -0.154, 'distY': -0.107, 'distZ': 0.11, 'forceX': 127.0, 'forceY': 81.0, 'forceZ': 29.0, 'timestamp': '2022-01-01 00:00:02.900000'}\n",
      "Sending: {'machineID': 'lidarOut', 'tempS1': 18.8, 'tempS2': 18.3, 'distX': -0.081, 'distY': -0.188, 'distZ': 0.088, 'forceX': 251.0, 'forceY': 63.0, 'forceZ': 264.0, 'timestamp': '2022-01-01 00:00:02.950000'}\n",
      "Sending: {'machineID': 'lidarOut', 'tempS1': 16.6, 'tempS2': 8.3, 'distX': -0.122, 'distY': -0.117, 'distZ': -0.137, 'forceX': 134.0, 'forceY': 12.0, 'forceZ': 193.0, 'timestamp': '2022-01-01 00:00:03'}\n",
      "Sending: {'machineID': 'lidarOut', 'tempS1': 26.400000000000002, 'tempS2': 19.8, 'distX': -0.2, 'distY': -0.193, 'distZ': -0.137, 'forceX': 85.0, 'forceY': 81.0, 'forceZ': 10.0, 'timestamp': '2022-01-01 00:00:03.050000'}\n",
      "Sending: {'machineID': 'lidarOut', 'tempS1': 26.400000000000002, 'tempS2': 26.400000000000002, 'distX': -0.144, 'distY': -0.205, 'distZ': 0.056, 'forceX': 139.0, 'forceY': 369.0, 'forceZ': 242.0, 'timestamp': '2022-01-01 00:00:03.100000'}\n",
      "Sending: {'machineID': 'lidarOut', 'tempS1': 10.0, 'tempS2': 8.799999999999999, 'distX': -0.173, 'distY': -0.212, 'distZ': 0.098, 'forceX': 56.0, 'forceY': 393.0, 'forceZ': 283.0, 'timestamp': '2022-01-01 00:00:03.150000'}\n",
      "Sending: {'machineID': 'lidarOut', 'tempS1': 9.8, 'tempS2': 13.200000000000001, 'distX': -0.12, 'distY': -0.173, 'distZ': -0.054, 'forceX': 171.0, 'forceY': 5.0, 'forceZ': 215.0, 'timestamp': '2022-01-01 00:00:03.200000'}\n",
      "Sending: {'machineID': 'lidarOut', 'tempS1': 11.5, 'tempS2': 3.2, 'distX': -0.188, 'distY': -0.073, 'distZ': -0.142, 'forceX': 107.0, 'forceY': 234.0, 'forceZ': 322.0, 'timestamp': '2022-01-01 00:00:03.250000'}\n",
      "Sending: {'machineID': 'lidarOut', 'tempS1': 18.099999999999998, 'tempS2': 8.1, 'distX': -0.122, 'distY': -0.149, 'distZ': -0.073, 'forceX': 105.0, 'forceY': 217.0, 'forceZ': 178.0, 'timestamp': '2022-01-01 00:00:03.300000'}\n",
      "Sending: {'machineID': 'lidarOut', 'tempS1': 22.2, 'tempS2': 18.3, 'distX': -0.068, 'distY': -0.195, 'distZ': -0.103, 'forceX': 88.0, 'forceY': 254.0, 'forceZ': 154.0, 'timestamp': '2022-01-01 00:00:03.350000'}\n",
      "Sending: {'machineID': 'lidarOut', 'tempS1': 13.4, 'tempS2': 8.5, 'distX': -0.073, 'distY': -0.203, 'distZ': -0.095, 'forceX': 68.0, 'forceY': 203.0, 'forceZ': 10.0, 'timestamp': '2022-01-01 00:00:03.400000'}\n",
      "Sending: {'machineID': 'lidarOut', 'tempS1': 11.200000000000001, 'tempS2': 14.2, 'distX': -0.12, 'distY': -0.132, 'distZ': -0.122, 'forceX': 63.0, 'forceY': 144.0, 'forceZ': 234.0, 'timestamp': '2022-01-01 00:00:03.450000'}\n",
      "Sending: {'machineID': 'lidarOut', 'tempS1': 4.9, 'tempS2': 17.1, 'distX': -0.098, 'distY': -0.088, 'distZ': -0.039, 'forceX': 98.0, 'forceY': 46.0, 'forceZ': 107.0, 'timestamp': '2022-01-01 00:00:03.500000'}\n",
      "Sending: {'machineID': 'lidarOut', 'tempS1': 2.0, 'tempS2': 11.5, 'distX': -0.098, 'distY': -0.12, 'distZ': 0.007, 'forceX': 107.0, 'forceY': 51.0, 'forceZ': 193.0, 'timestamp': '2022-01-01 00:00:03.550000'}\n",
      "Sending: {'machineID': 'lidarOut', 'tempS1': 12.9, 'tempS2': 21.0, 'distX': 0.027, 'distY': -0.088, 'distZ': -0.151, 'forceX': 154.0, 'forceY': 149.0, 'forceZ': 98.0, 'timestamp': '2022-01-01 00:00:03.600000'}\n",
      "Sending: {'machineID': 'lidarOut', 'tempS1': 3.2, 'tempS2': 28.299999999999997, 'distX': -0.042, 'distY': -0.125, 'distZ': -0.173, 'forceX': 139.0, 'forceY': 134.0, 'forceZ': 63.0, 'timestamp': '2022-01-01 00:00:03.650000'}\n",
      "Sending: {'machineID': 'lidarOut', 'tempS1': 2.9000000000000004, 'tempS2': 5.4, 'distX': 0.017, 'distY': -0.181, 'distZ': -0.149, 'forceX': 73.0, 'forceY': 159.0, 'forceZ': 98.0, 'timestamp': '2022-01-01 00:00:03.700000'}\n",
      "Sending: {'machineID': 'lidarOut', 'tempS1': 4.2, 'tempS2': 0.7000000000000001, 'distX': 0.01, 'distY': -0.078, 'distZ': -0.046, 'forceX': 249.0, 'forceY': 120.0, 'forceZ': 190.0, 'timestamp': '2022-01-01 00:00:03.750000'}\n",
      "Sending: {'machineID': 'lidarOut', 'tempS1': 15.6, 'tempS2': 24.9, 'distX': -0.039, 'distY': -0.073, 'distZ': -0.227, 'forceX': 95.0, 'forceY': 29.0, 'forceZ': 127.0, 'timestamp': '2022-01-01 00:00:03.800000'}\n",
      "Sending: {'machineID': 'lidarOut', 'tempS1': 19.0, 'tempS2': 21.5, 'distX': -0.081, 'distY': -0.083, 'distZ': -0.083, 'forceX': 85.0, 'forceY': 39.0, 'forceZ': 305.0, 'timestamp': '2022-01-01 00:00:03.850000'}\n",
      "Sending: {'machineID': 'lidarOut', 'tempS1': 12.9, 'tempS2': 24.2, 'distX': -0.173, 'distY': -0.11, 'distZ': -0.271, 'forceX': 46.0, 'forceY': 232.0, 'forceZ': 83.0, 'timestamp': '2022-01-01 00:00:03.900000'}\n",
      "Sending: {'machineID': 'lidarOut', 'tempS1': 2.7, 'tempS2': 18.099999999999998, 'distX': -0.164, 'distY': -0.103, 'distZ': -0.144, 'forceX': 76.0, 'forceY': 369.0, 'forceZ': 190.0, 'timestamp': '2022-01-01 00:00:03.950000'}\n",
      "Sending: {'machineID': 'lidarOut', 'tempS1': 16.400000000000002, 'tempS2': 14.2, 'distX': -0.066, 'distY': -0.139, 'distZ': 0.012, 'forceX': 42.0, 'forceY': 115.0, 'forceZ': 286.0, 'timestamp': '2022-01-01 00:00:04'}\n",
      "Sending: {'machineID': 'lidarOut', 'tempS1': 15.6, 'tempS2': 12.7, 'distX': -0.093, 'distY': -0.149, 'distZ': -0.093, 'forceX': 103.0, 'forceY': 78.0, 'forceZ': 342.0, 'timestamp': '2022-01-01 00:00:04.050000'}\n",
      "Sending: {'machineID': 'lidarOut', 'tempS1': 7.8, 'tempS2': 23.7, 'distX': -0.251, 'distY': -0.078, 'distZ': -0.293, 'forceX': 210.0, 'forceY': 49.0, 'forceZ': 247.0, 'timestamp': '2022-01-01 00:00:04.100000'}\n",
      "Sending: {'machineID': 'lidarOut', 'tempS1': 16.400000000000002, 'tempS2': 18.6, 'distX': -0.344, 'distY': -0.193, 'distZ': 0.007, 'forceX': 39.0, 'forceY': 195.0, 'forceZ': 161.0, 'timestamp': '2022-01-01 00:00:04.150000'}\n",
      "Sending: {'machineID': 'lidarOut', 'tempS1': 21.5, 'tempS2': 18.8, 'distX': -0.151, 'distY': -0.11, 'distZ': 0.046, 'forceX': 232.0, 'forceY': 281.0, 'forceZ': 59.0, 'timestamp': '2022-01-01 00:00:04.200000'}\n",
      "Sending: {'machineID': 'lidarOut', 'tempS1': 12.0, 'tempS2': 10.0, 'distX': -0.193, 'distY': -0.159, 'distZ': -0.154, 'forceX': 110.0, 'forceY': 212.0, 'forceZ': 56.0, 'timestamp': '2022-01-01 00:00:04.250000'}\n",
      "Sending: {'machineID': 'lidarOut', 'tempS1': 6.3, 'tempS2': 9.0, 'distX': -0.291, 'distY': -0.083, 'distZ': -0.056, 'forceX': 98.0, 'forceY': 15.0, 'forceZ': 105.0, 'timestamp': '2022-01-01 00:00:04.300000'}\n",
      "Sending: {'machineID': 'lidarOut', 'tempS1': 21.5, 'tempS2': 2.9000000000000004, 'distX': -0.281, 'distY': -0.071, 'distZ': -0.212, 'forceX': 215.0, 'forceY': 95.0, 'forceZ': 164.0, 'timestamp': '2022-01-01 00:00:04.350000'}\n",
      "Sending: {'machineID': 'lidarOut', 'tempS1': 31.0, 'tempS2': 0.5, 'distX': -0.144, 'distY': -0.085, 'distZ': -0.093, 'forceX': 251.0, 'forceY': 93.0, 'forceZ': 39.0, 'timestamp': '2022-01-01 00:00:04.400000'}\n",
      "Sending: {'machineID': 'lidarOut', 'tempS1': 5.4, 'tempS2': 2.9000000000000004, 'distX': -0.181, 'distY': -0.1, 'distZ': -0.034, 'forceX': 2.0, 'forceY': 305.0, 'forceZ': 22.0, 'timestamp': '2022-01-01 00:00:04.450000'}\n",
      "Sending: {'machineID': 'lidarOut', 'tempS1': 2.1999999999999997, 'tempS2': 17.1, 'distX': -0.142, 'distY': -0.071, 'distZ': -0.217, 'forceX': 239.0, 'forceY': 286.0, 'forceZ': 110.0, 'timestamp': '2022-01-01 00:00:04.500000'}\n",
      "Sending: {'machineID': 'lidarOut', 'tempS1': 17.8, 'tempS2': 15.1, 'distX': -0.217, 'distY': -0.105, 'distZ': -0.322, 'forceX': 125.0, 'forceY': 127.0, 'forceZ': 90.0, 'timestamp': '2022-01-01 00:00:04.550000'}\n",
      "Sending: {'machineID': 'lidarOut', 'tempS1': 20.5, 'tempS2': 6.800000000000001, 'distX': -0.063, 'distY': -0.061, 'distZ': -0.115, 'forceX': 193.0, 'forceY': 39.0, 'forceZ': 34.0, 'timestamp': '2022-01-01 00:00:04.600000'}\n",
      "Sending: {'machineID': 'lidarOut', 'tempS1': 1.0, 'tempS2': 2.9000000000000004, 'distX': 0.051, 'distY': -0.093, 'distZ': -0.217, 'forceX': 237.0, 'forceY': 129.0, 'forceZ': 586.0, 'timestamp': '2022-01-01 00:00:04.650000'}\n",
      "Sending: {'machineID': 'lidarOut', 'tempS1': 3.6999999999999997, 'tempS2': 12.2, 'distX': -0.078, 'distY': 0.037, 'distZ': -0.2, 'forceX': 227.0, 'forceY': 164.0, 'forceZ': 273.0, 'timestamp': '2022-01-01 00:00:04.700000'}\n",
      "Sending: {'machineID': 'lidarOut', 'tempS1': 4.9, 'tempS2': 19.0, 'distX': -0.078, 'distY': -0.024, 'distZ': -0.129, 'forceX': 42.0, 'forceY': 154.0, 'forceZ': 78.0, 'timestamp': '2022-01-01 00:00:04.750000'}\n",
      "Sending: {'machineID': 'lidarOut', 'tempS1': 6.1, 'tempS2': 6.800000000000001, 'distX': -0.017, 'distY': -0.01, 'distZ': -0.293, 'forceX': 83.0, 'forceY': 71.0, 'forceZ': 278.0, 'timestamp': '2022-01-01 00:00:04.800000'}\n",
      "Sending: {'machineID': 'lidarOut', 'tempS1': 5.6000000000000005, 'tempS2': 9.8, 'distX': -0.044, 'distY': -0.159, 'distZ': -0.044, 'forceX': 7.0, 'forceY': 166.0, 'forceZ': 393.0, 'timestamp': '2022-01-01 00:00:04.850000'}\n",
      "Sending: {'machineID': 'lidarOut', 'tempS1': 9.0, 'tempS2': 1.0, 'distX': 0.0, 'distY': -0.09, 'distZ': -0.068, 'forceX': 27.0, 'forceY': 132.0, 'forceZ': 137.0, 'timestamp': '2022-01-01 00:00:04.900000'}\n",
      "Sending: {'machineID': 'lidarOut', 'tempS1': 13.200000000000001, 'tempS2': 11.700000000000001, 'distX': -0.095, 'distY': -0.085, 'distZ': -0.125, 'forceX': 71.0, 'forceY': 317.0, 'forceZ': 117.0, 'timestamp': '2022-01-01 00:00:04.950000'}\n"
     ]
    },
    {
     "data": {
      "text/plain": [
       "0"
      ]
     },
     "execution_count": 5,
     "metadata": {},
     "output_type": "execute_result"
    }
   ],
   "source": [
    "average_time = df['timestamp'].diff().mean().total_seconds() # Average time between timestamps for entire dataframe\n",
    "\n",
    "# Publish data\n",
    "for i in range(df.shape[0]):\n",
    "    message = df.iloc[i].to_dict()\n",
    "    message['timestamp']=str(message['timestamp'])\n",
    "    m = json.dumps(message)\n",
    "    \n",
    "    print(\"Sending: {}\".format(message))\n",
    "    \n",
    "    producer.produce(topic=topic_name, value= m.encode('utf-8'))\n",
    "    \n",
    "    time.sleep(average_time)\n",
    "\n",
    "producer.flush()"
   ]
  },
  {
   "cell_type": "code",
   "execution_count": null,
   "id": "462d43bb-0d20-470a-b5a6-e73e969310e9",
   "metadata": {},
   "outputs": [],
   "source": []
  }
 ],
 "metadata": {
  "kernelspec": {
   "display_name": "Python 3 (ipykernel)",
   "language": "python",
   "name": "python3"
  },
  "language_info": {
   "codemirror_mode": {
    "name": "ipython",
    "version": 3
   },
   "file_extension": ".py",
   "mimetype": "text/x-python",
   "name": "python",
   "nbconvert_exporter": "python",
   "pygments_lexer": "ipython3",
   "version": "3.7.15"
  }
 },
 "nbformat": 4,
 "nbformat_minor": 5
}
