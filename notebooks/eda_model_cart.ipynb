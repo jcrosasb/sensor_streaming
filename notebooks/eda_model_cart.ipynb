{
 "cells": [
  {
   "cell_type": "code",
   "execution_count": 2,
   "id": "99ee9cbb-5dcb-45cd-8eaf-45b5965b3c42",
   "metadata": {},
   "outputs": [],
   "source": [
    "import pandas as pd"
   ]
  },
  {
   "cell_type": "markdown",
   "id": "27c46714-a5fd-4d64-9d79-4bca12fef0c3",
   "metadata": {},
   "source": [
    "# SECTION 3: Statistic Summary"
   ]
  },
  {
   "cell_type": "markdown",
   "id": "9388f509-010e-4466-8887-4fd45daa75a9",
   "metadata": {},
   "source": [
    "## Load the dataset using pandas and get a summary of the number of machines for each of the four types."
   ]
  },
  {
   "cell_type": "code",
   "execution_count": 3,
   "id": "e217583e-0497-44eb-8b7a-b6f438ca702e",
   "metadata": {},
   "outputs": [],
   "source": [
    "f_type = 'cart'  # Type of file (lidar, m, cart, speedo)\n",
    "ID = ['1Floor', '1Top', '2', '4x']  # ID for each file"
   ]
  },
  {
   "cell_type": "code",
   "execution_count": 4,
   "id": "02b5a1b6-e04a-4efb-a3c9-b55ca82b63a7",
   "metadata": {},
   "outputs": [],
   "source": [
    "floor, top, two, fourX = [pd.read_parquet('../data/raw/202201W1-' + f_type + ID[i] + '.parquet', engine='pyarrow') for i in range(len(ID))]\n",
    "f = [floor, top, two, fourX]  # Create list with all loaded files"
   ]
  },
  {
   "cell_type": "markdown",
   "id": "9d683cb7-a180-44a2-83cf-e4cbf9871aca",
   "metadata": {},
   "source": [
    "# SECTION 4: Defining the Schemas"
   ]
  },
  {
   "cell_type": "markdown",
   "id": "13c57321-faef-4f10-a838-074163a44735",
   "metadata": {},
   "source": [
    "## Get the schemas for each of the four types of machines. Note: Schema refers to the definition of the schema on a database. Observe the datatypes of each field."
   ]
  },
  {
   "cell_type": "code",
   "execution_count": 5,
   "id": "27a9aa03-b415-431d-84c8-cfac3b350ad8",
   "metadata": {},
   "outputs": [
    {
     "name": "stdout",
     "output_type": "stream",
     "text": [
      "machineID              object\n",
      "torque                float64\n",
      "oilPressure           float64\n",
      "vibration             float64\n",
      "posX                  float64\n",
      "posY                  float64\n",
      "posZ                  float64\n",
      "perpForce             float64\n",
      "normForce             float64\n",
      "timestamp      datetime64[ns]\n",
      "dtype: object\n"
     ]
    }
   ],
   "source": [
    "for i, file in enumerate(f):\n",
    "    if list(f[0].dtypes) == list(file.dtypes):\n",
    "        if i == len(f) - 1:\n",
    "            print(file.dtypes)\n",
    "    else:\n",
    "        print('Files do not have a common schema')\n",
    "        break    "
   ]
  },
  {
   "cell_type": "markdown",
   "id": "6d2b60a1-526e-4c51-a33f-8fc3b6bdf377",
   "metadata": {},
   "source": [
    "# SECTION 5: Exploring the dataset. "
   ]
  },
  {
   "cell_type": "markdown",
   "id": "cdaf0eef-7e30-45a5-8477-6672592951f9",
   "metadata": {},
   "source": [
    "## 5a: Get a statistical summary of the dataset."
   ]
  },
  {
   "cell_type": "code",
   "execution_count": 6,
   "id": "7ec8e89a-eb21-459c-9ed3-fc81e5a44dab",
   "metadata": {},
   "outputs": [
    {
     "name": "stdout",
     "output_type": "stream",
     "text": [
      "1: File ../data/raw/202201W1-cart1Floor.parquet --------------------------------------------------\n",
      "              torque    oilPressure      vibration           posX  \\\n",
      "count  604800.000000  604800.000000  589802.000000  604800.000000   \n",
      "mean       54.377976      74.986845      29.514522     129.364821   \n",
      "std         9.186406       0.276544      31.071173       8.939564   \n",
      "min        40.047000      74.499000       6.000000     115.146000   \n",
      "25%        44.666000      74.737000       8.000000     119.989750   \n",
      "50%        57.965000      74.992000       8.980000     132.951000   \n",
      "75%        63.012000      75.243000      63.350000     137.826000   \n",
      "max        65.990000      75.400000     100.000000     140.489000   \n",
      "\n",
      "                posY           posZ      perpForce      normForce  \n",
      "count  604800.000000  604800.000000  604800.000000  604800.000000  \n",
      "mean      -20.608870       0.725581    3041.354130    5623.103438  \n",
      "std         9.434896       0.124886     991.705278      41.462488  \n",
      "min       -35.052000       0.533256    1603.762209    5550.101001  \n",
      "25%       -30.655000       0.593002    1995.051556    5585.619169  \n",
      "50%       -17.021000       0.773011    3359.941225    5623.800064  \n",
      "75%       -11.816000       0.842095    3970.512144    5661.509049  \n",
      "max        -8.509000       0.885784    4354.680100    5685.160000   \n",
      "\n",
      "2: File ../data/raw/202201W1-cart1Top.parquet --------------------------------------------------\n",
      "              torque    oilPressure      vibration           posX  \\\n",
      "count  604800.000000  604800.000000  591528.000000  604800.000000   \n",
      "mean       70.394214      73.685194      23.034175     144.079408   \n",
      "std         7.922315       0.808023      17.673747       7.591567   \n",
      "min        63.153000      72.399000       7.000000     136.966000   \n",
      "25%        64.145000      72.904000      14.520000     138.229000   \n",
      "50%        67.092000      73.850000      20.840000     141.372000   \n",
      "75%        75.536000      74.248000      22.180000     148.020000   \n",
      "max        93.744000      75.000000      99.990000     167.743000   \n",
      "\n",
      "                posY           posZ      perpForce      normForce  \n",
      "count  604800.000000  604800.000000  604800.000000  604800.000000  \n",
      "mean       -3.290980       0.955986    5018.108326    5430.160713  \n",
      "std         8.318657       0.112770    1194.549788     119.047445  \n",
      "min       -11.252000       0.849973    3988.301409    5241.615201  \n",
      "25%        -9.822000       0.867208    4114.581025    5314.993216  \n",
      "50%        -7.237000       0.902672    4501.336464    5453.822500  \n",
      "75%         3.052000       1.042106    5705.687296    5512.765504  \n",
      "max        19.745000       1.266828    8787.937536    5625.000000   \n",
      "\n",
      "3: File ../data/raw/202201W1-cart2.parquet --------------------------------------------------\n",
      "              torque    oilPressure      vibration           posX  \\\n",
      "count  604800.000000  604800.000000  585980.000000  604800.000000   \n",
      "mean       38.553445      74.208906      35.055185     112.762351   \n",
      "std         3.481482       0.286021      27.363274       3.520264   \n",
      "min        29.000000      73.799000       2.000000     103.188000   \n",
      "25%        36.176000      74.011000       6.800000     110.320000   \n",
      "50%        38.373000      74.155000      34.880000     112.615000   \n",
      "75%        41.171000      74.273000      63.520000     115.468000   \n",
      "max        44.656000      75.099000      99.000000     118.455000   \n",
      "\n",
      "                posY           posZ      perpForce      normForce  \n",
      "count  604800.000000  604800.000000  604800.000000  604800.000000  \n",
      "mean      -35.655460       0.519517    1498.488846    5507.043502  \n",
      "std         3.465948       0.046848     266.144148      42.560429  \n",
      "min       -45.193000       0.390872     841.000000    5446.292401  \n",
      "25%       -37.968000       0.487922    1308.702976    5477.628121  \n",
      "50%       -35.869000       0.516864    1472.487129    5498.964025  \n",
      "75%       -33.111000       0.554229    1695.051241    5516.478529  \n",
      "max       -29.143000       0.605103    1994.158336    5639.859801   \n",
      "\n",
      "4: File ../data/raw/202201W1-cart4x.parquet --------------------------------------------------\n",
      "              torque    oilPressure      vibration           posX  \\\n",
      "count  604800.000000  604800.000000  599665.000000  604800.000000   \n",
      "mean       22.148779      74.003969      25.629115      96.152747   \n",
      "std         2.573616       0.382656      15.810371       2.870039   \n",
      "min        16.933000      73.199000       2.000000      90.132000   \n",
      "25%        20.815000      73.737000       4.250000      94.727000   \n",
      "50%        21.624000      74.029000      31.800000      95.590000   \n",
      "75%        23.681000      74.350000      36.740000      98.030000   \n",
      "max        29.655000      74.599000      99.000000     103.854000   \n",
      "\n",
      "                posY           posZ      perpForce      normForce  \n",
      "count  604800.000000  604800.000000  604800.000000  604800.000000  \n",
      "mean      -51.855190       0.299165     497.191882    5476.733823  \n",
      "std         2.302764       0.033665     117.353008      56.597459  \n",
      "min       -56.353000       0.231328     286.726489    5358.093601  \n",
      "25%       -53.227000       0.281083     433.264225    5437.145169  \n",
      "50%       -52.240000       0.292845     467.597376    5480.292841  \n",
      "75%       -50.643000       0.318594     560.789761    5527.922500  \n",
      "max       -44.544000       0.399668     879.419025    5565.010801   \n",
      "\n"
     ]
    }
   ],
   "source": [
    "for i, file in enumerate(f):\n",
    "    print(str(i+1) +': File ../data/raw/202201W1-' + f_type + ID[i] + '.parquet ' + '-'*50)\n",
    "    print(file.describe(), '\\n')"
   ]
  },
  {
   "cell_type": "markdown",
   "id": "6dd98c95-e1bc-46c5-b0b6-d20802386771",
   "metadata": {},
   "source": [
    "## 5b: Get the number of missing values, null values, or NaN values."
   ]
  },
  {
   "cell_type": "code",
   "execution_count": 12,
   "id": "36471895-066a-44c0-8131-0cc4370a883f",
   "metadata": {},
   "outputs": [
    {
     "name": "stdout",
     "output_type": "stream",
     "text": [
      "The number of NaN values in each dataframe is:\n",
      "File ../data/raw/202201W1-cart1Floor.parquet : 14998\n",
      "File ../data/raw/202201W1-cart1Top.parquet : 13272\n",
      "File ../data/raw/202201W1-cart2.parquet : 18820\n",
      "File ../data/raw/202201W1-cart4x.parquet : 5135\n"
     ]
    }
   ],
   "source": [
    "print('The number of NaN values in each dataframe is:')\n",
    "for i, file in enumerate(f):\n",
    "    print(\"File ../data/raw/202201W1-\" + f_type + ID[i] + \".parquet : {}\".format(file.isna().sum().sum()))"
   ]
  },
  {
   "cell_type": "code",
   "execution_count": 13,
   "id": "af1dea6e-fc2a-4b80-9cb9-6a4bf0c5a6a7",
   "metadata": {},
   "outputs": [
    {
     "name": "stdout",
     "output_type": "stream",
     "text": [
      "The number of null values in each dataframe is:\n",
      "File ../data/raw/202201W1-cart1Floor.parquet : 14998\n",
      "File ../data/raw/202201W1-cart1Top.parquet : 13272\n",
      "File ../data/raw/202201W1-cart2.parquet : 18820\n",
      "File ../data/raw/202201W1-cart4x.parquet : 5135\n"
     ]
    }
   ],
   "source": [
    "print('The number of null values in each dataframe is:')\n",
    "for i, file in enumerate(f):\n",
    "    print(\"File ../data/raw/202201W1-\" + f_type + ID[i] + \".parquet : {}\".format(file.isnull().sum().sum()))"
   ]
  },
  {
   "cell_type": "markdown",
   "id": "a02e8671-0707-4635-bb34-2c2a9292fa2a",
   "metadata": {},
   "source": [
    "## 5c: Establish the ranges of each variable, i.e., get the min and max for each field."
   ]
  },
  {
   "cell_type": "code",
   "execution_count": 9,
   "id": "318bdc85-c68d-4793-9235-7a39bd6bdfa7",
   "metadata": {},
   "outputs": [
    {
     "name": "stdout",
     "output_type": "stream",
     "text": [
      "1: File ../data/raw/202201W1-cart1Floor.parquet --------------------------------------------------\n",
      "     torque  oilPressure  vibration     posX    posY      posZ    perpForce  \\\n",
      "min  40.047       74.499        6.0  115.146 -35.052  0.533256  1603.762209   \n",
      "max  65.990       75.400      100.0  140.489  -8.509  0.885784  4354.680100   \n",
      "\n",
      "       normForce  \n",
      "min  5550.101001  \n",
      "max  5685.160000   \n",
      "\n",
      "2: File ../data/raw/202201W1-cart1Top.parquet --------------------------------------------------\n",
      "     torque  oilPressure  vibration     posX    posY      posZ    perpForce  \\\n",
      "min  63.153       72.399       7.00  136.966 -11.252  0.849973  3988.301409   \n",
      "max  93.744       75.000      99.99  167.743  19.745  1.266828  8787.937536   \n",
      "\n",
      "       normForce  \n",
      "min  5241.615201  \n",
      "max  5625.000000   \n",
      "\n",
      "3: File ../data/raw/202201W1-cart2.parquet --------------------------------------------------\n",
      "     torque  oilPressure  vibration     posX    posY      posZ    perpForce  \\\n",
      "min  29.000       73.799        2.0  103.188 -45.193  0.390872   841.000000   \n",
      "max  44.656       75.099       99.0  118.455 -29.143  0.605103  1994.158336   \n",
      "\n",
      "       normForce  \n",
      "min  5446.292401  \n",
      "max  5639.859801   \n",
      "\n",
      "4: File ../data/raw/202201W1-cart4x.parquet --------------------------------------------------\n",
      "     torque  oilPressure  vibration     posX    posY      posZ   perpForce  \\\n",
      "min  16.933       73.199        2.0   90.132 -56.353  0.231328  286.726489   \n",
      "max  29.655       74.599       99.0  103.854 -44.544  0.399668  879.419025   \n",
      "\n",
      "       normForce  \n",
      "min  5358.093601  \n",
      "max  5565.010801   \n",
      "\n"
     ]
    }
   ],
   "source": [
    "for i, file in enumerate(f):\n",
    "    print(str(i+1) +': File ../data/raw/202201W1-' + f_type + ID[i] + '.parquet ' + '-'*50)\n",
    "    print(file.select_dtypes(include=['float64']).agg(['min','max']), '\\n')"
   ]
  },
  {
   "cell_type": "markdown",
   "id": "6aa26e0d-ee43-4d02-a903-2996a97accb5",
   "metadata": {},
   "source": [
    "## 5d: Get the rate at which data arrives. Use the timestamp field in the dataset."
   ]
  },
  {
   "cell_type": "code",
   "execution_count": 10,
   "id": "d95bfc16-e813-497d-80cc-4e9a23885f2d",
   "metadata": {},
   "outputs": [
    {
     "name": "stdout",
     "output_type": "stream",
     "text": [
      "1: File ../data/raw/202201W1-cart1Floor.parquet --------------------------------------------------\n",
      "Average rate of incoming data = 1.0 entries per second \n",
      "\n",
      "2: File ../data/raw/202201W1-cart1Top.parquet --------------------------------------------------\n",
      "Average rate of incoming data = 1.0 entries per second \n",
      "\n",
      "3: File ../data/raw/202201W1-cart2.parquet --------------------------------------------------\n",
      "Average rate of incoming data = 1.0 entries per second \n",
      "\n",
      "4: File ../data/raw/202201W1-cart4x.parquet --------------------------------------------------\n",
      "Average rate of incoming data = 1.0 entries per second \n",
      "\n"
     ]
    }
   ],
   "source": [
    "for i, file in enumerate(f):\n",
    "    print(str(i+1) +': File ../data/raw/202201W1-' + f_type + ID[i] + '.parquet ' + '-'*50)\n",
    "    print('Average rate of incoming data = ' + \n",
    "          str(1/file['timestamp'].diff().mean().total_seconds()) + ' entries per second', '\\n')"
   ]
  }
 ],
 "metadata": {
  "kernelspec": {
   "display_name": "Python 3 (ipykernel)",
   "language": "python",
   "name": "python3"
  },
  "language_info": {
   "codemirror_mode": {
    "name": "ipython",
    "version": 3
   },
   "file_extension": ".py",
   "mimetype": "text/x-python",
   "name": "python",
   "nbconvert_exporter": "python",
   "pygments_lexer": "ipython3",
   "version": "3.7.15"
  }
 },
 "nbformat": 4,
 "nbformat_minor": 5
}
